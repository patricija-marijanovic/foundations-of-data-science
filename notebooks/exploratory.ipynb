{
 "cells": [
  {
   "cell_type": "markdown",
   "id": "c99ce6486884e508",
   "metadata": {},
   "source": [
    "# EXPLORATORY DATA ANALYSIS\n"
   ]
  },
  {
   "cell_type": "code",
   "execution_count": 4,
   "id": "ec2750fe289264b3",
   "metadata": {
    "ExecuteTime": {
     "end_time": "2025-10-21T17:45:27.207861Z",
     "start_time": "2025-10-21T17:45:17.588959Z"
    }
   },
   "outputs": [],
   "source": [
    "import pandas as pd\n",
    "import numpy as np\n",
    "import matplotlib.pyplot as plt"
   ]
  },
  {
   "cell_type": "markdown",
   "id": "5e4f0145bfdce432",
   "metadata": {},
   "source": [
    "## Loading FARS data\n",
    "\n",
    "(za pocetak samo jedna godina, kad cemo htjeti vise onda cemo samo spojiti sve u isti df pa provesti isti postupak?)\n"
   ]
  },
  {
   "cell_type": "code",
   "execution_count": 26,
   "id": "initial_id",
   "metadata": {
    "ExecuteTime": {
     "end_time": "2025-10-21T17:27:37.114924Z",
     "start_time": "2025-10-21T17:27:35.616213Z"
    },
    "collapsed": true
   },
   "outputs": [
    {
     "name": "stderr",
     "output_type": "stream",
     "text": [
      "C:\\Users\\zualuk\\AppData\\Local\\Temp\\ipykernel_11824\\3408718905.py:4: DtypeWarning: Columns (40,42) have mixed types. Specify dtype option on import or set low_memory=False.\n",
      "  df_year = pd.read_csv(f'../data/FARS{y}NationalCSV/ACCIDENT.CSV')\n"
     ]
    }
   ],
   "source": [
    "years = ['2015','2016','2017','2018']\n",
    "dfs = []\n",
    "for y in years:\n",
    "    df_year = pd.read_csv(f'../data/FARS{y}NationalCSV/ACCIDENT.CSV')\n",
    "    dfs.append(df_year)\n",
    "\n",
    "df = pd.concat(dfs, ignore_index=True)"
   ]
  },
  {
   "cell_type": "markdown",
   "id": "d16ec0c6106b2947",
   "metadata": {},
   "source": [
    "## Check dataset info\n",
    "\n",
    "(what columns are there, their datatypes, how many missing values exist)\n"
   ]
  },
  {
   "cell_type": "code",
   "execution_count": 6,
   "id": "7790f5a6d3ed4b17",
   "metadata": {
    "ExecuteTime": {
     "end_time": "2025-10-21T17:27:37.335918Z",
     "start_time": "2025-10-21T17:27:37.133097Z"
    }
   },
   "outputs": [
    {
     "name": "stdout",
     "output_type": "stream",
     "text": [
      "<class 'pandas.core.frame.DataFrame'>\n",
      "RangeIndex: 135765 entries, 0 to 135764\n",
      "Data columns (total 91 columns):\n",
      " #   Column        Non-Null Count   Dtype  \n",
      "---  ------        --------------   -----  \n",
      " 0   STATE         135765 non-null  int64  \n",
      " 1   STATENAME     135765 non-null  object \n",
      " 2   ST_CASE       135765 non-null  int64  \n",
      " 3   VE_TOTAL      135765 non-null  int64  \n",
      " 4   VE_FORMS      135765 non-null  int64  \n",
      " 5   PVH_INVL      135765 non-null  int64  \n",
      " 6   PEDS          135765 non-null  int64  \n",
      " 7   PERSONS       135765 non-null  int64  \n",
      " 8   PERMVIT       135765 non-null  int64  \n",
      " 9   PERNOTMVIT    135765 non-null  int64  \n",
      " 10  COUNTY        135765 non-null  int64  \n",
      " 11  CITY          135765 non-null  int64  \n",
      " 12  DAY           135765 non-null  int64  \n",
      " 13  DAYNAME       135765 non-null  int64  \n",
      " 14  MONTH         135765 non-null  int64  \n",
      " 15  MONTHNAME     135765 non-null  object \n",
      " 16  YEAR          135765 non-null  int64  \n",
      " 17  DAY_WEEK      135765 non-null  int64  \n",
      " 18  DAY_WEEKNAME  135765 non-null  object \n",
      " 19  HOUR          135765 non-null  int64  \n",
      " 20  HOURNAME      135765 non-null  object \n",
      " 21  MINUTE        135765 non-null  int64  \n",
      " 22  MINUTENAME    135765 non-null  object \n",
      " 23  NHS           135765 non-null  int64  \n",
      " 24  NHSNAME       135765 non-null  object \n",
      " 25  ROUTE         135765 non-null  int64  \n",
      " 26  ROUTENAME     135765 non-null  object \n",
      " 27  TWAY_ID       135765 non-null  object \n",
      " 28  TWAY_ID2      36152 non-null   object \n",
      " 29  RUR_URB       135765 non-null  int64  \n",
      " 30  RUR_URBNAME   135765 non-null  object \n",
      " 31  FUNC_SYS      135765 non-null  int64  \n",
      " 32  FUNC_SYSNAME  135765 non-null  object \n",
      " 33  RD_OWNER      135765 non-null  int64  \n",
      " 34  RD_OWNERNAME  135765 non-null  object \n",
      " 35  MILEPT        135765 non-null  int64  \n",
      " 36  MILEPTNAME    96209 non-null   object \n",
      " 37  LATITUDE      135765 non-null  float64\n",
      " 38  LATITUDENAME  135765 non-null  object \n",
      " 39  LONGITUD      135765 non-null  float64\n",
      " 40  LONGITUDNAME  135765 non-null  object \n",
      " 41  SP_JUR        135765 non-null  int64  \n",
      " 42  SP_JURNAME    135765 non-null  object \n",
      " 43  HARM_EV       135765 non-null  int64  \n",
      " 44  HARM_EVNAME   135765 non-null  object \n",
      " 45  MAN_COLL      135765 non-null  int64  \n",
      " 46  MAN_COLLNAME  135765 non-null  object \n",
      " 47  RELJCT1       135765 non-null  int64  \n",
      " 48  RELJCT1NAME   135765 non-null  object \n",
      " 49  RELJCT2       135765 non-null  int64  \n",
      " 50  RELJCT2NAME   135765 non-null  object \n",
      " 51  TYP_INT       135765 non-null  int64  \n",
      " 52  TYP_INTNAME   135765 non-null  object \n",
      " 53  WRK_ZONE      135765 non-null  int64  \n",
      " 54  WRK_ZONENAME  2736 non-null    object \n",
      " 55  REL_ROAD      135765 non-null  int64  \n",
      " 56  REL_ROADNAME  135765 non-null  object \n",
      " 57  LGT_COND      135765 non-null  int64  \n",
      " 58  LGT_CONDNAME  135765 non-null  object \n",
      " 59  WEATHER1      135765 non-null  int64  \n",
      " 60  WEATHER1NAME  135765 non-null  object \n",
      " 61  WEATHER2      135765 non-null  int64  \n",
      " 62  WEATHER2NAME  135765 non-null  object \n",
      " 63  WEATHER       135765 non-null  int64  \n",
      " 64  WEATHERNAME   135765 non-null  object \n",
      " 65  SCH_BUS       135765 non-null  int64  \n",
      " 66  SCH_BUSNAME   135765 non-null  object \n",
      " 67  RAIL          135765 non-null  object \n",
      " 68  RAILNAME      135765 non-null  object \n",
      " 69  NOT_HOUR      135765 non-null  int64  \n",
      " 70  NOT_HOURNAME  135765 non-null  object \n",
      " 71  NOT_MIN       135765 non-null  int64  \n",
      " 72  NOT_MINNAME   135765 non-null  object \n",
      " 73  ARR_HOUR      135765 non-null  int64  \n",
      " 74  ARR_HOURNAME  135765 non-null  object \n",
      " 75  ARR_MIN       135765 non-null  int64  \n",
      " 76  ARR_MINNAME   135765 non-null  object \n",
      " 77  HOSP_HR       135765 non-null  int64  \n",
      " 78  HOSP_HRNAME   135765 non-null  object \n",
      " 79  HOSP_MN       135765 non-null  int64  \n",
      " 80  HOSP_MNNAME   135765 non-null  object \n",
      " 81  CF1           135765 non-null  int64  \n",
      " 82  CF1NAME       9702 non-null    object \n",
      " 83  CF2           135765 non-null  int64  \n",
      " 84  CF2NAME       1670 non-null    object \n",
      " 85  CF3           135765 non-null  int64  \n",
      " 86  CF3NAME       952 non-null     object \n",
      " 87  FATALS        135765 non-null  int64  \n",
      " 88  DRUNK_DR      135765 non-null  int64  \n",
      " 89  COUNTYNAME    103227 non-null  object \n",
      " 90  CITYNAME      103227 non-null  object \n",
      "dtypes: float64(2), int64(48), object(41)\n",
      "memory usage: 94.3+ MB\n"
     ]
    }
   ],
   "source": [
    "df.info()"
   ]
  },
  {
   "cell_type": "markdown",
   "id": "83e203656967ad24",
   "metadata": {},
   "source": [
    "interesting features:\n",
    "\n",
    "- latitude,\n",
    "- longitud,\n",
    "- day,\n",
    "- day_week,\n",
    "- month,\n",
    "- year,\n",
    "- hour,\n",
    "- minute,\n",
    "- fatals\n"
   ]
  },
  {
   "cell_type": "code",
   "execution_count": 7,
   "id": "32c64e21f6794a56",
   "metadata": {
    "ExecuteTime": {
     "end_time": "2025-10-21T17:27:37.356631Z",
     "start_time": "2025-10-21T17:27:37.350073Z"
    }
   },
   "outputs": [
    {
     "data": {
      "text/plain": [
       "Index(['STATE', 'STATENAME', 'ST_CASE', 'VE_TOTAL', 'VE_FORMS', 'PVH_INVL',\n",
       "       'PEDS', 'PERSONS', 'PERMVIT', 'PERNOTMVIT', 'COUNTY', 'CITY', 'DAY',\n",
       "       'DAYNAME', 'MONTH', 'MONTHNAME', 'YEAR', 'DAY_WEEK', 'DAY_WEEKNAME',\n",
       "       'HOUR', 'HOURNAME', 'MINUTE', 'MINUTENAME', 'NHS', 'NHSNAME', 'ROUTE',\n",
       "       'ROUTENAME', 'TWAY_ID', 'TWAY_ID2', 'RUR_URB', 'RUR_URBNAME',\n",
       "       'FUNC_SYS', 'FUNC_SYSNAME', 'RD_OWNER', 'RD_OWNERNAME', 'MILEPT',\n",
       "       'MILEPTNAME', 'LATITUDE', 'LATITUDENAME', 'LONGITUD', 'LONGITUDNAME',\n",
       "       'SP_JUR', 'SP_JURNAME', 'HARM_EV', 'HARM_EVNAME', 'MAN_COLL',\n",
       "       'MAN_COLLNAME', 'RELJCT1', 'RELJCT1NAME', 'RELJCT2', 'RELJCT2NAME',\n",
       "       'TYP_INT', 'TYP_INTNAME', 'WRK_ZONE', 'WRK_ZONENAME', 'REL_ROAD',\n",
       "       'REL_ROADNAME', 'LGT_COND', 'LGT_CONDNAME', 'WEATHER1', 'WEATHER1NAME',\n",
       "       'WEATHER2', 'WEATHER2NAME', 'WEATHER', 'WEATHERNAME', 'SCH_BUS',\n",
       "       'SCH_BUSNAME', 'RAIL', 'RAILNAME', 'NOT_HOUR', 'NOT_HOURNAME',\n",
       "       'NOT_MIN', 'NOT_MINNAME', 'ARR_HOUR', 'ARR_HOURNAME', 'ARR_MIN',\n",
       "       'ARR_MINNAME', 'HOSP_HR', 'HOSP_HRNAME', 'HOSP_MN', 'HOSP_MNNAME',\n",
       "       'CF1', 'CF1NAME', 'CF2', 'CF2NAME', 'CF3', 'CF3NAME', 'FATALS',\n",
       "       'DRUNK_DR', 'COUNTYNAME', 'CITYNAME'],\n",
       "      dtype='object')"
      ]
     },
     "execution_count": 7,
     "metadata": {},
     "output_type": "execute_result"
    }
   ],
   "source": [
    "df.columns"
   ]
  },
  {
   "cell_type": "code",
   "execution_count": 8,
   "id": "78f5a9a323c1dfbe",
   "metadata": {
    "ExecuteTime": {
     "end_time": "2025-10-21T17:27:37.391675Z",
     "start_time": "2025-10-21T17:27:37.386041Z"
    }
   },
   "outputs": [
    {
     "data": {
      "text/plain": [
       "(135765, 91)"
      ]
     },
     "execution_count": 8,
     "metadata": {},
     "output_type": "execute_result"
    }
   ],
   "source": [
    "df.shape"
   ]
  },
  {
   "cell_type": "markdown",
   "id": "d1a7f6cb02185bb2",
   "metadata": {},
   "source": [
    "## Check longitude, latitude\n"
   ]
  },
  {
   "cell_type": "code",
   "execution_count": 9,
   "id": "b36e5f7b7f9e9c49",
   "metadata": {
    "ExecuteTime": {
     "end_time": "2025-10-21T17:27:37.571429Z",
     "start_time": "2025-10-21T17:27:37.455719Z"
    }
   },
   "outputs": [
    {
     "name": "stdout",
     "output_type": "stream",
     "text": [
      "Missing LATITUDE: 650\n",
      "Missing LONGITUD: 650\n",
      "Rows before: 135765\n"
     ]
    },
    {
     "name": "stdout",
     "output_type": "stream",
     "text": [
      "Rows remaining: 135115\n"
     ]
    }
   ],
   "source": [
    "# check for latitude and longitude if they are defined everywhere\n",
    "invalid_lat = [77.7777, 88.8888, 99.9999] # from documentation\n",
    "invalid_long = [777.7777, 888.8888, 999.9999]\n",
    "\n",
    "df[\"LATITUDE\"] = df[\"LATITUDE\"].replace(invalid_lat, np.nan)\n",
    "df[\"LONGITUD\"] = df[\"LONGITUD\"].replace(invalid_long, np.nan)\n",
    "\n",
    "# check how many missing coordinates\n",
    "print(\"Missing LATITUDE:\", df['LATITUDE'].isnull().sum())\n",
    "print(\"Missing LONGITUD:\", df['LONGITUD'].isnull().sum())\n",
    "\n",
    "print(\"Rows before:\", df.shape[0])\n",
    "\n",
    "# delete rows with missing coordinates (where LATITUDE or LONGITUD is NaN)\n",
    "df = df.dropna(subset = ['LATITUDE', 'LONGITUD'])\n",
    "\n",
    "print(\"Rows remaining:\", df.shape[0])"
   ]
  },
  {
   "cell_type": "markdown",
   "id": "2af188e103972ff9",
   "metadata": {},
   "source": [
    "## Check day, day_week, month, year, hour, minute\n"
   ]
  },
  {
   "cell_type": "code",
   "execution_count": 10,
   "id": "bd26324296c74cd7",
   "metadata": {
    "ExecuteTime": {
     "end_time": "2025-10-21T17:27:37.587380Z",
     "start_time": "2025-10-21T17:27:37.577273Z"
    }
   },
   "outputs": [
    {
     "name": "stdout",
     "output_type": "stream",
     "text": [
      "DAY         0\n",
      "DAY_WEEK    0\n",
      "MONTH       0\n",
      "YEAR        0\n",
      "HOUR        0\n",
      "MINUTE      0\n",
      "dtype: int64\n"
     ]
    }
   ],
   "source": [
    "cols = [\"DAY\", \"DAY_WEEK\", \"MONTH\", \"YEAR\", \"HOUR\", \"MINUTE\"]\n",
    "for c in cols:\n",
    "    df[c] = df[c].replace(\"--\", np.nan)\n",
    "\n",
    "# check how many are missing\n",
    "print(df[cols].isnull().sum())"
   ]
  },
  {
   "cell_type": "markdown",
   "id": "6b34469f1caff911",
   "metadata": {},
   "source": [
    "## Check hour, minute\n"
   ]
  },
  {
   "cell_type": "code",
   "execution_count": 11,
   "id": "d34c16dc99e4199b",
   "metadata": {
    "ExecuteTime": {
     "end_time": "2025-10-21T17:27:37.607034Z",
     "start_time": "2025-10-21T17:27:37.601222Z"
    }
   },
   "outputs": [
    {
     "name": "stdout",
     "output_type": "stream",
     "text": [
      "0\n",
      "0\n"
     ]
    }
   ],
   "source": [
    "for c in [\"HOUR\", \"MINUTE\"]:\n",
    "    df[c] = df[c].replace(\"99\", np.nan)\n",
    "\n",
    "# check how many are missing\n",
    "print(df[\"HOUR\"].isnull().sum())\n",
    "print(df[\"MINUTE\"].isnull().sum())"
   ]
  },
  {
   "cell_type": "markdown",
   "id": "7d9e123e2c176956",
   "metadata": {},
   "source": [
    "## Coordinate Rounding for Weather Data\n",
    "\n",
    "Since each accident record contains precise geographic coordinates (latitude and longitude), querying weather data for every unique coordinate would lead to excessive API calls and redundant information.\n",
    "\n",
    "To make the process of fetching historical weather data more efficient while maintaining accuracy, we round latitude and longitude to 2 decimal places, which corresponds to an approximate radius of 1.1 km.\n",
    "Accidents occurring within ~1 km of each other are assumed to experience similar weather conditions, reducing redundant API calls while preserving meaningful spatial resolution.\n"
   ]
  },
  {
   "cell_type": "code",
   "execution_count": 12,
   "id": "387b1466d176c30c",
   "metadata": {
    "ExecuteTime": {
     "end_time": "2025-10-21T17:27:37.630525Z",
     "start_time": "2025-10-21T17:27:37.625106Z"
    }
   },
   "outputs": [],
   "source": [
    "df[\"LAT_ROUND\"] = df[\"LATITUDE\"].round(2)\n",
    "df[\"LONG_ROUND\"] = df[\"LONGITUD\"].round(2)"
   ]
  },
  {
   "cell_type": "markdown",
   "id": "4366b7c08d47b850",
   "metadata": {},
   "source": [
    "## Create DATE\n"
   ]
  },
  {
   "cell_type": "code",
   "execution_count": 13,
   "id": "7c6682fe80367fac",
   "metadata": {
    "ExecuteTime": {
     "end_time": "2025-10-21T17:27:37.659077Z",
     "start_time": "2025-10-21T17:27:37.642560Z"
    }
   },
   "outputs": [],
   "source": [
    "df[\"DATE\"] = pd.to_datetime(df[[\"YEAR\", \"MONTH\", \"DAY\"]])"
   ]
  },
  {
   "cell_type": "code",
   "execution_count": 14,
   "id": "b0dc327be4fa01fb",
   "metadata": {
    "ExecuteTime": {
     "end_time": "2025-10-21T17:27:37.682707Z",
     "start_time": "2025-10-21T17:27:37.676426Z"
    }
   },
   "outputs": [
    {
     "name": "stdout",
     "output_type": "stream",
     "text": [
      "   YEAR  MONTH  DAY       DATE\n",
      "0  2015      1    1 2015-01-01\n",
      "1  2015      1    1 2015-01-01\n",
      "2  2015      1    1 2015-01-01\n",
      "3  2015      1    4 2015-01-04\n",
      "4  2015      1    7 2015-01-07\n",
      "5  2015      1    8 2015-01-08\n",
      "6  2015      1    8 2015-01-08\n",
      "7  2015      1    3 2015-01-03\n",
      "8  2015      1   13 2015-01-13\n",
      "9  2015      1    5 2015-01-05\n"
     ]
    }
   ],
   "source": [
    "# or show first 10 rows\n",
    "print(df[['YEAR', 'MONTH', 'DAY', 'DATE']].head(10))"
   ]
  },
  {
   "cell_type": "markdown",
   "id": "4655cd052b4fcdd4",
   "metadata": {},
   "source": [
    "## analysis of \"FATALS\" column\n"
   ]
  },
  {
   "cell_type": "code",
   "execution_count": 15,
   "id": "b6a127f223bb96ea",
   "metadata": {
    "ExecuteTime": {
     "end_time": "2025-10-21T17:29:26.224831Z",
     "start_time": "2025-10-21T17:29:26.168511Z"
    }
   },
   "outputs": [
    {
     "data": {
      "text/plain": [
       "count    135115.000000\n",
       "mean          1.087178\n",
       "std           0.358324\n",
       "min           1.000000\n",
       "25%           1.000000\n",
       "50%           1.000000\n",
       "75%           1.000000\n",
       "max          20.000000\n",
       "Name: FATALS, dtype: float64"
      ]
     },
     "execution_count": 15,
     "metadata": {},
     "output_type": "execute_result"
    }
   ],
   "source": [
    "df[\"FATALS\"].describe()"
   ]
  },
  {
   "cell_type": "code",
   "execution_count": 16,
   "id": "728b0335147c6f32",
   "metadata": {
    "ExecuteTime": {
     "end_time": "2025-10-21T17:46:54.917130Z",
     "start_time": "2025-10-21T17:46:54.093346Z"
    }
   },
   "outputs": [
    {
     "name": "stdout",
     "output_type": "stream",
     "text": [
      "Year: 2015\n",
      "FATALS\n",
      "1     30041\n",
      "2      1943\n",
      "3       300\n",
      "4        77\n",
      "5        24\n",
      "6         9\n",
      "8         1\n",
      "10        1\n",
      "Name: count, dtype: int64\n"
     ]
    },
    {
     "data": {
      "image/png": "[encoded data removed]",
      "text/plain": [
       "<Figure size 600x400 with 1 Axes>"
      ]
     },
     "metadata": {},
     "output_type": "display_data"
    },
    {
     "name": "stdout",
     "output_type": "stream",
     "text": [
      "Year: 2016\n",
      "FATALS\n",
      "1     32159\n",
      "2      2032\n",
      "3       317\n",
      "4        81\n",
      "5        19\n",
      "6         9\n",
      "13        1\n",
      "9         1\n",
      "Name: count, dtype: int64\n"
     ]
    },
    {
     "data": {
      "image/png": "[encoded data removed]",
      "text/plain": [
       "<Figure size 600x400 with 1 Axes>"
      ]
     },
     "metadata": {},
     "output_type": "display_data"
    },
    {
     "name": "stdout",
     "output_type": "stream",
     "text": [
      "Year: 2017\n",
      "FATALS\n",
      "1     32048\n",
      "2      1940\n",
      "3       299\n",
      "4        77\n",
      "5        25\n",
      "6         3\n",
      "13        1\n",
      "Name: count, dtype: int64\n"
     ]
    },
    {
     "data": {
      "image/png": "[encoded data removed]",
      "text/plain": [
       "<Figure size 600x400 with 1 Axes>"
      ]
     },
     "metadata": {},
     "output_type": "display_data"
    },
    {
     "name": "stdout",
     "output_type": "stream",
     "text": [
      "Year: 2018\n",
      "FATALS\n",
      "1     31325\n",
      "2      2001\n",
      "3       288\n",
      "4        72\n",
      "5        15\n",
      "8         2\n",
      "6         2\n",
      "7         1\n",
      "20        1\n",
      "Name: count, dtype: int64\n"
     ]
    },
    {
     "data": {
      "image/png": "[encoded data removed]",
      "text/plain": [
       "<Figure size 600x400 with 1 Axes>"
      ]
     },
     "metadata": {},
     "output_type": "display_data"
    }
   ],
   "source": [
    "fatal_counts = df.groupby(\"YEAR\")\n",
    "for year, group in fatal_counts:\n",
    "    print(f\"Year: {year}\")\n",
    "    print(group[\"FATALS\"].value_counts())\n",
    "    plt.figure(figsize=(6,4))\n",
    "    group[\"FATALS\"].hist(bins=range(0, group[\"FATALS\"].max()+2), edgecolor='black')\n",
    "    plt.title(f\"Histogram of Fatalities in {year}\")\n",
    "    plt.xlabel(\"Number of Fatalities per Accident\")\n",
    "    plt.ylabel(\"Number of Accidents\")\n",
    "    plt.xticks(range(0, group[\"FATALS\"].max()+1))\n",
    "    plt.show()\n"
   ]
  },
  {
   "cell_type": "code",
   "execution_count": 17,
   "id": "6a55be801bf57627",
   "metadata": {
    "ExecuteTime": {
     "end_time": "2025-10-21T17:48:00.389153Z",
     "start_time": "2025-10-21T17:48:00.174295Z"
    }
   },
   "outputs": [
    {
     "data": {
      "image/png": "[encoded data removed]",
      "text/plain": [
       "<Figure size 1000x600 with 1 Axes>"
      ]
     },
     "metadata": {},
     "output_type": "display_data"
    }
   ],
   "source": [
    "# group by YEAR and FATALS, count accidents\n",
    "counts = df.groupby(['YEAR', 'FATALS']).size().unstack(fill_value=0)\n",
    "\n",
    "# plot\n",
    "counts.plot(kind='bar', figsize=(10,6))\n",
    "plt.xlabel(\"Year\")\n",
    "plt.ylabel(\"Number of Accidents\")\n",
    "plt.title(\"Accidents by Number of Fatalities per Year\")\n",
    "plt.legend(title=\"Fatalities\")\n",
    "plt.show()"
   ]
  },
  {
   "cell_type": "code",
   "execution_count": 18,
   "id": "e1d802a411c4ee84",
   "metadata": {
    "ExecuteTime": {
     "end_time": "2025-10-21T23:54:24.226989Z",
     "start_time": "2025-10-21T23:54:24.101185Z"
    }
   },
   "outputs": [
    {
     "data": {
      "text/html": [
       "<div>\n",
       "<style scoped>\n",
       "    .dataframe tbody tr th:only-of-type {\n",
       "        vertical-align: middle;\n",
       "    }\n",
       "\n",
       "    .dataframe tbody tr th {\n",
       "        vertical-align: top;\n",
       "    }\n",
       "\n",
       "    .dataframe thead th {\n",
       "        text-align: right;\n",
       "    }\n",
       "</style>\n",
       "<table border=\"1\" class=\"dataframe\">\n",
       "  <thead>\n",
       "    <tr style=\"text-align: right;\">\n",
       "      <th></th>\n",
       "      <th>STATE</th>\n",
       "      <th>STATENAME</th>\n",
       "      <th>ST_CASE</th>\n",
       "      <th>VE_TOTAL</th>\n",
       "      <th>VE_FORMS</th>\n",
       "      <th>PVH_INVL</th>\n",
       "      <th>PEDS</th>\n",
       "      <th>PERSONS</th>\n",
       "      <th>PERMVIT</th>\n",
       "      <th>PERNOTMVIT</th>\n",
       "      <th>...</th>\n",
       "      <th>CF2NAME</th>\n",
       "      <th>CF3</th>\n",
       "      <th>CF3NAME</th>\n",
       "      <th>FATALS</th>\n",
       "      <th>DRUNK_DR</th>\n",
       "      <th>COUNTYNAME</th>\n",
       "      <th>CITYNAME</th>\n",
       "      <th>LAT_ROUND</th>\n",
       "      <th>LONG_ROUND</th>\n",
       "      <th>DATE</th>\n",
       "    </tr>\n",
       "  </thead>\n",
       "  <tbody>\n",
       "    <tr>\n",
       "      <th>0</th>\n",
       "      <td>1</td>\n",
       "      <td>Alabama</td>\n",
       "      <td>10001</td>\n",
       "      <td>1</td>\n",
       "      <td>1</td>\n",
       "      <td>0</td>\n",
       "      <td>0</td>\n",
       "      <td>1</td>\n",
       "      <td>1</td>\n",
       "      <td>0</td>\n",
       "      <td>...</td>\n",
       "      <td>NaN</td>\n",
       "      <td>0</td>\n",
       "      <td>NaN</td>\n",
       "      <td>1</td>\n",
       "      <td>1</td>\n",
       "      <td>NaN</td>\n",
       "      <td>NaN</td>\n",
       "      <td>33.88</td>\n",
       "      <td>-87.33</td>\n",
       "      <td>2015-01-01</td>\n",
       "    </tr>\n",
       "    <tr>\n",
       "      <th>1</th>\n",
       "      <td>1</td>\n",
       "      <td>Alabama</td>\n",
       "      <td>10002</td>\n",
       "      <td>1</td>\n",
       "      <td>1</td>\n",
       "      <td>0</td>\n",
       "      <td>0</td>\n",
       "      <td>1</td>\n",
       "      <td>1</td>\n",
       "      <td>0</td>\n",
       "      <td>...</td>\n",
       "      <td>NaN</td>\n",
       "      <td>0</td>\n",
       "      <td>NaN</td>\n",
       "      <td>1</td>\n",
       "      <td>0</td>\n",
       "      <td>NaN</td>\n",
       "      <td>NaN</td>\n",
       "      <td>34.91</td>\n",
       "      <td>-86.91</td>\n",
       "      <td>2015-01-01</td>\n",
       "    </tr>\n",
       "    <tr>\n",
       "      <th>2</th>\n",
       "      <td>1</td>\n",
       "      <td>Alabama</td>\n",
       "      <td>10003</td>\n",
       "      <td>1</td>\n",
       "      <td>1</td>\n",
       "      <td>0</td>\n",
       "      <td>0</td>\n",
       "      <td>2</td>\n",
       "      <td>2</td>\n",
       "      <td>0</td>\n",
       "      <td>...</td>\n",
       "      <td>NaN</td>\n",
       "      <td>0</td>\n",
       "      <td>NaN</td>\n",
       "      <td>1</td>\n",
       "      <td>1</td>\n",
       "      <td>NaN</td>\n",
       "      <td>NaN</td>\n",
       "      <td>32.14</td>\n",
       "      <td>-85.76</td>\n",
       "      <td>2015-01-01</td>\n",
       "    </tr>\n",
       "    <tr>\n",
       "      <th>3</th>\n",
       "      <td>1</td>\n",
       "      <td>Alabama</td>\n",
       "      <td>10004</td>\n",
       "      <td>1</td>\n",
       "      <td>1</td>\n",
       "      <td>0</td>\n",
       "      <td>0</td>\n",
       "      <td>1</td>\n",
       "      <td>1</td>\n",
       "      <td>0</td>\n",
       "      <td>...</td>\n",
       "      <td>NaN</td>\n",
       "      <td>0</td>\n",
       "      <td>NaN</td>\n",
       "      <td>1</td>\n",
       "      <td>1</td>\n",
       "      <td>NaN</td>\n",
       "      <td>NaN</td>\n",
       "      <td>31.44</td>\n",
       "      <td>-85.51</td>\n",
       "      <td>2015-01-04</td>\n",
       "    </tr>\n",
       "    <tr>\n",
       "      <th>4</th>\n",
       "      <td>1</td>\n",
       "      <td>Alabama</td>\n",
       "      <td>10005</td>\n",
       "      <td>2</td>\n",
       "      <td>2</td>\n",
       "      <td>0</td>\n",
       "      <td>0</td>\n",
       "      <td>2</td>\n",
       "      <td>2</td>\n",
       "      <td>0</td>\n",
       "      <td>...</td>\n",
       "      <td>NaN</td>\n",
       "      <td>0</td>\n",
       "      <td>NaN</td>\n",
       "      <td>1</td>\n",
       "      <td>0</td>\n",
       "      <td>NaN</td>\n",
       "      <td>NaN</td>\n",
       "      <td>31.32</td>\n",
       "      <td>-85.52</td>\n",
       "      <td>2015-01-07</td>\n",
       "    </tr>\n",
       "  </tbody>\n",
       "</table>\n",
       "<p>5 rows × 94 columns</p>\n",
       "</div>"
      ],
      "text/plain": [
       "   STATE STATENAME  ST_CASE  VE_TOTAL  VE_FORMS  PVH_INVL  PEDS  PERSONS  \\\n",
       "0      1   Alabama    10001         1         1         0     0        1   \n",
       "1      1   Alabama    10002         1         1         0     0        1   \n",
       "2      1   Alabama    10003         1         1         0     0        2   \n",
       "3      1   Alabama    10004         1         1         0     0        1   \n",
       "4      1   Alabama    10005         2         2         0     0        2   \n",
       "\n",
       "   PERMVIT  PERNOTMVIT  ...  CF2NAME  CF3  CF3NAME  FATALS  DRUNK_DR  \\\n",
       "0        1           0  ...      NaN    0      NaN       1         1   \n",
       "1        1           0  ...      NaN    0      NaN       1         0   \n",
       "2        2           0  ...      NaN    0      NaN       1         1   \n",
       "3        1           0  ...      NaN    0      NaN       1         1   \n",
       "4        2           0  ...      NaN    0      NaN       1         0   \n",
       "\n",
       "  COUNTYNAME  CITYNAME  LAT_ROUND LONG_ROUND       DATE  \n",
       "0        NaN       NaN      33.88     -87.33 2015-01-01  \n",
       "1        NaN       NaN      34.91     -86.91 2015-01-01  \n",
       "2        NaN       NaN      32.14     -85.76 2015-01-01  \n",
       "3        NaN       NaN      31.44     -85.51 2015-01-04  \n",
       "4        NaN       NaN      31.32     -85.52 2015-01-07  \n",
       "\n",
       "[5 rows x 94 columns]"
      ]
     },
     "execution_count": 18,
     "metadata": {},
     "output_type": "execute_result"
    }
   ],
   "source": [
    "df.head()"
   ]
  },
  {
   "cell_type": "code",
   "execution_count": 29,
   "id": "aad6edca",
   "metadata": {},
   "outputs": [
    {
     "name": "stderr",
     "output_type": "stream",
     "text": [
      "C:\\Users\\zualuk\\AppData\\Local\\Temp\\ipykernel_11824\\3153428584.py:3: DtypeWarning: Columns (15,118,120) have mixed types. Specify dtype option on import or set low_memory=False.\n",
      "  person_df = pd.read_csv(f'../data/FARS{y}NationalCSV/PERSON.CSV', encoding='latin-1')\n",
      "C:\\Users\\zualuk\\AppData\\Local\\Temp\\ipykernel_11824\\3153428584.py:3: DtypeWarning: Columns (15,116,118,120) have mixed types. Specify dtype option on import or set low_memory=False.\n",
      "  person_df = pd.read_csv(f'../data/FARS{y}NationalCSV/PERSON.CSV', encoding='latin-1')\n",
      "C:\\Users\\zualuk\\AppData\\Local\\Temp\\ipykernel_11824\\3153428584.py:3: DtypeWarning: Columns (15,118,120) have mixed types. Specify dtype option on import or set low_memory=False.\n",
      "  person_df = pd.read_csv(f'../data/FARS{y}NationalCSV/PERSON.CSV', encoding='latin-1')\n",
      "C:\\Users\\zualuk\\AppData\\Local\\Temp\\ipykernel_11824\\3153428584.py:3: DtypeWarning: Columns (15,109) have mixed types. Specify dtype option on import or set low_memory=False.\n",
      "  person_df = pd.read_csv(f'../data/FARS{y}NationalCSV/PERSON.CSV', encoding='latin-1')\n"
     ]
    },
    {
     "name": "stdout",
     "output_type": "stream",
     "text": [
      "Number of accidents by gender and year:\n",
      "                      2015   2016   2017   2018\n",
      "SEXNAME                                        \n",
      "Female               26984  28751  28497  28038\n",
      "Male                 53199  56219  55823  54684\n",
      "Not Reported           467    410    466    607\n",
      "Reported as Unknown      0      0      0   1015\n",
      "Unknown                970   1094   1054      0\n"
     ]
    },
    {
     "data": {
      "text/plain": [
       "<Figure size 800x500 with 0 Axes>"
      ]
     },
     "metadata": {},
     "output_type": "display_data"
    },
    {
     "data": {
      "image/png": "[encoded data removed]",
      "text/plain": [
       "<Figure size 800x500 with 1 Axes>"
      ]
     },
     "metadata": {},
     "output_type": "display_data"
    }
   ],
   "source": [
    "gender_by_year = {}\n",
    "for y in years:\n",
    "    person_df = pd.read_csv(f'../data/FARS{y}NationalCSV/PERSON.CSV', encoding='latin-1')\n",
    "    counts = person_df['SEXNAME'].value_counts()\n",
    "    gender_by_year[y] = counts\n",
    "\n",
    "gender_df = pd.DataFrame(gender_by_year).fillna(0).astype(int)\n",
    "\n",
    "print(\"Number of accidents by gender and year:\")\n",
    "print(gender_df)\n",
    "\n",
    "plt.figure(figsize=(8, 5))\n",
    "gender_df.T.plot(\n",
    "    kind='bar',\n",
    "    figsize=(8, 5),\n",
    "    color=['skyblue', 'salmon', 'lightgreen', 'orange', 'violet']\n",
    ")\n",
    "\n",
    "plt.title('Number of Accidents by Gender (2015-2018)')\n",
    "plt.xlabel('Year')\n",
    "plt.ylabel('Number of Accidents')\n",
    "plt.legend(title='Gender')\n",
    "plt.grid(axis='y', linestyle='--', alpha=0.7)\n",
    "plt.tight_layout()\n",
    "plt.show()"
   ]
  },
  {
   "cell_type": "markdown",
   "id": "86860f49f236013a",
   "metadata": {},
   "source": [
    "# Open-Meteo historical API\n"
   ]
  },
  {
   "cell_type": "code",
   "execution_count": 19,
   "id": "eaf6ef3afc894925",
   "metadata": {
    "ExecuteTime": {
     "end_time": "2025-10-22T00:03:53.003421Z",
     "start_time": "2025-10-22T00:03:52.877898Z"
    }
   },
   "outputs": [],
   "source": [
    "import openmeteo_requests\n",
    "import requests_cache\n",
    "from retry_requests import retry"
   ]
  },
  {
   "cell_type": "code",
   "execution_count": 20,
   "id": "af1977fc2164b26d",
   "metadata": {
    "ExecuteTime": {
     "end_time": "2025-10-22T00:04:02.460497Z",
     "start_time": "2025-10-22T00:04:02.447347Z"
    }
   },
   "outputs": [],
   "source": [
    "# Setup the Open-Meteo API client with cache and retry on error\n",
    "cache_session = requests_cache.CachedSession('.cache', expire_after = -1)\n",
    "retry_session = retry(cache_session, retries = 5, backoff_factor = 0.2)\n",
    "openmeteo = openmeteo_requests.Client(session = retry_session)"
   ]
  },
  {
   "cell_type": "code",
   "execution_count": 21,
   "id": "bbafc49db23856c4",
   "metadata": {
    "ExecuteTime": {
     "end_time": "2025-10-22T00:19:48.193740Z",
     "start_time": "2025-10-22T00:19:47.825090Z"
    }
   },
   "outputs": [
    {
     "name": "stdout",
     "output_type": "stream",
     "text": [
      "Coordinates: 52.5483283996582°N 13.407821655273438°E\n",
      "Elevation: 38.0 m asl\n",
      "\n",
      "Hourly data\n",
      "                         date  temperature_2m\n",
      "0  2010-01-01 00:00:00+00:00          -2.611\n",
      "1  2010-01-01 01:00:00+00:00          -2.661\n",
      "2  2010-01-01 02:00:00+00:00          -2.661\n",
      "3  2010-01-01 03:00:00+00:00          -2.661\n",
      "4  2010-01-01 04:00:00+00:00          -2.661\n",
      "5  2010-01-01 05:00:00+00:00          -2.661\n",
      "6  2010-01-01 06:00:00+00:00          -2.761\n",
      "7  2010-01-01 07:00:00+00:00          -2.661\n",
      "8  2010-01-01 08:00:00+00:00          -2.661\n",
      "9  2010-01-01 09:00:00+00:00          -2.411\n",
      "10 2010-01-01 10:00:00+00:00          -2.161\n",
      "11 2010-01-01 11:00:00+00:00          -2.011\n",
      "12 2010-01-01 12:00:00+00:00          -1.711\n",
      "13 2010-01-01 13:00:00+00:00          -1.611\n",
      "14 2010-01-01 14:00:00+00:00          -1.711\n",
      "15 2010-01-01 15:00:00+00:00          -2.111\n",
      "16 2010-01-01 16:00:00+00:00          -2.461\n",
      "17 2010-01-01 17:00:00+00:00          -2.811\n",
      "18 2010-01-01 18:00:00+00:00          -3.161\n",
      "19 2010-01-01 19:00:00+00:00          -2.911\n",
      "20 2010-01-01 20:00:00+00:00          -2.961\n",
      "21 2010-01-01 21:00:00+00:00          -2.911\n",
      "22 2010-01-01 22:00:00+00:00          -2.861\n",
      "23 2010-01-01 23:00:00+00:00          -2.861\n",
      "24 2010-01-02 00:00:00+00:00          -2.961\n",
      "25 2010-01-02 01:00:00+00:00          -3.161\n",
      "26 2010-01-02 02:00:00+00:00          -3.361\n",
      "27 2010-01-02 03:00:00+00:00          -3.511\n",
      "28 2010-01-02 04:00:00+00:00          -3.661\n",
      "29 2010-01-02 05:00:00+00:00          -3.811\n",
      "30 2010-01-02 06:00:00+00:00          -3.761\n",
      "31 2010-01-02 07:00:00+00:00          -3.561\n",
      "32 2010-01-02 08:00:00+00:00          -3.561\n",
      "33 2010-01-02 09:00:00+00:00          -3.211\n",
      "34 2010-01-02 10:00:00+00:00          -2.661\n",
      "35 2010-01-02 11:00:00+00:00          -1.911\n",
      "36 2010-01-02 12:00:00+00:00          -1.411\n",
      "37 2010-01-02 13:00:00+00:00          -1.211\n",
      "38 2010-01-02 14:00:00+00:00          -1.361\n",
      "39 2010-01-02 15:00:00+00:00          -1.911\n",
      "40 2010-01-02 16:00:00+00:00          -2.011\n",
      "41 2010-01-02 17:00:00+00:00          -2.361\n",
      "42 2010-01-02 18:00:00+00:00          -3.161\n",
      "43 2010-01-02 19:00:00+00:00          -4.411\n",
      "44 2010-01-02 20:00:00+00:00          -5.061\n",
      "45 2010-01-02 21:00:00+00:00          -5.711\n",
      "46 2010-01-02 22:00:00+00:00          -5.661\n",
      "47 2010-01-02 23:00:00+00:00          -5.611\n"
     ]
    }
   ],
   "source": [
    "url = \"https://archive-api.open-meteo.com/v1/archive\"\n",
    "params = {\n",
    "\t\"latitude\": 52.52,\n",
    "\t\"longitude\": 13.41,\n",
    "\t\"start_date\": \"2010-01-01\",\n",
    "\t\"end_date\": \"2010-01-02\",\n",
    "\t\"hourly\": \"temperature_2m\",\n",
    "}\n",
    "\n",
    "responses = openmeteo.weather_api(url, params=params)\n",
    "response = responses[0] # Process first location. Add a for-loop for multiple locations or weather models\n",
    "print(f\"Coordinates: {response.Latitude()}°N {response.Longitude()}°E\")\n",
    "print(f\"Elevation: {response.Elevation()} m asl\")\n",
    "\n",
    "# Process hourly data. The order of variables needs to be the same as requested.\n",
    "hourly = response.Hourly()\n",
    "\n",
    "# Since we requested \"temperature_2m\", that’s variable #0 in the hourly list\n",
    "hourly_temperature_2m = hourly.Variables(0).ValuesAsNumpy()\n",
    "\n",
    "# This builds a list of hourly timestamps\n",
    "hourly_data = {\"date\": pd.date_range(\n",
    "\tstart = pd.to_datetime(hourly.Time(), unit = \"s\", utc = True),\n",
    "\tend = pd.to_datetime(hourly.TimeEnd(), unit = \"s\", utc = True),\n",
    "\tfreq = pd.Timedelta(seconds = hourly.Interval()),\n",
    "\tinclusive = \"left\"\n",
    ")}\n",
    "\n",
    "hourly_data[\"temperature_2m\"] = hourly_temperature_2m\n",
    "\n",
    "hourly_dataframe = pd.DataFrame(data = hourly_data)\n",
    "print(\"\\nHourly data\\n\", hourly_dataframe)"
   ]
  }
 ],
 "metadata": {
  "kernelspec": {
   "display_name": ".venv",
   "language": "python",
   "name": "python3"
  },
  "language_info": {
   "codemirror_mode": {
    "name": "ipython",
    "version": 3
   },
   "file_extension": ".py",
   "mimetype": "text/x-python",
   "name": "python",
   "nbconvert_exporter": "python",
   "pygments_lexer": "ipython3",
   "version": "3.13.0"
  }
 },
 "nbformat": 4,
 "nbformat_minor": 5
}
